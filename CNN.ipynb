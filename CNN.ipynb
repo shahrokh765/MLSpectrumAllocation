{
 "cells": [
  {
   "cell_type": "code",
   "execution_count": null,
   "metadata": {},
   "outputs": [],
   "source": [
    "# CNN\n"
   ]
  },
  {
   "cell_type": "code",
   "execution_count": 6,
   "metadata": {},
   "outputs": [],
   "source": [
    "# IMPORTS\n",
    "import pandas as pd\n",
    "import numpy as np\n",
    "import tensorflow as tf\n",
    "from keras import layers, models\n",
    "from keras import backend as K"
   ]
  },
  {
   "cell_type": "code",
   "execution_count": 7,
   "metadata": {},
   "outputs": [],
   "source": [
    "# LOAD DATA\n",
    "dataframe = pd.read_csv('ML\\data\\dynamic_pus_using_pus50000_15PUs_201910_2616_25.txt', delimiter=',', header=None)\n",
    "dataframe_max = pd.read_csv('ML\\data\\dynamic_pus_max_power50000_15PUs_201910_2616_25.txt', delimiter=',', header=None)\n",
    "\n",
    "dataframe.reset_index(drop=True, inplace=True)\n",
    "dataframe_max.reset_index(drop=True, inplace=True)\n",
    "\n",
    "dataframe_tot = pd.concat([dataframe, dataframe_max.iloc[:, dataframe_max.columns.values[-1]]], axis=1,\n",
    "                        ignore_index=True)\n",
    "idx = dataframe_tot[dataframe_tot[dataframe_tot.columns[-1]] == -float('inf')].index\n",
    "dataframe_tot.drop(idx, inplace=True)\n",
    "\n",
    "data_reg = np.concatenate((dataframe_tot.values[:, 0:dataframe_tot.shape[1]-3], \n",
    "                           dataframe_tot.values[:, dataframe_tot.shape[1]-1:dataframe_tot.shape[1]]), axis=1)\n",
    "data_class = dataframe_tot.values[:, 0:dataframe_tot.shape[1]-1]\n",
    "y_class_power = dataframe_tot.values[:, -1]\n",
    "del dataframe, dataframe_max"
   ]
  },
  {
   "cell_type": "code",
   "execution_count": 9,
   "metadata": {},
   "outputs": [],
   "source": [
    "# INIT\n",
    "number_samples = [5] + list(range(10, 101, 10)) + [120, 150, 200, 250, 300, 400, 500, 700] + list(range(1000, 4001, 1000))\n",
    "number_samples = [10]"
   ]
  },
  {
   "cell_type": "code",
   "execution_count": 10,
   "metadata": {},
   "outputs": [],
   "source": [
    "def calculate_mu_sigma(data, num_pus):\n",
    "    sum_non_noise = 0\n",
    "    for pu_n in range(num_pus): # calculate mu\n",
    "        sum_non_noise += data[0][pu_n*3+2]\n",
    "    mu = ((max_x * max_y - num_pus) * noise_floor + sum_non_noise)/(max_x * max_y)\n",
    "    sum_square = 0\n",
    "    for pu_n in range(num_pus): # calculate sigma\n",
    "        sum_square += (data[0][pu_n*3+2]-mu)**2\n",
    "    sum_square += (max_x * max_y - num_pus) * (noise_floor - mu)**2\n",
    "    sigma = math.sqrt(sum_square/(max_x * max_y))\n",
    "    return mu, sigma\n",
    "# TODO: Consider using min_max normalization becasue difference between values using\n",
    "# z-score is huge since most of the pixels have the same value, noise floor"
   ]
  },
  {
   "cell_type": "code",
   "execution_count": 11,
   "metadata": {},
   "outputs": [],
   "source": [
    "## CNN\n",
    "import math\n",
    "average_class_diff_power = []\n",
    "fp_mean_power = []\n",
    "validation_size, noise_floor = 0.33, -90.0\n",
    "su_power = 0 # this is not actually su power just a number to show there is an SU in its image\n",
    "max_x, max_y = 4000, 4000\n",
    "num_pus = (data_reg.shape[1] - 3)//3\n",
    "for number_sample in number_samples:\n",
    "    sample = math.ceil(number_sample * (1 + validation_size))\n",
    "    x_train, y_train = [], []\n",
    "    for image_num in range(sample):\n",
    "        mu, sigma = calculate_mu_sigma(data_reg, num_pus)\n",
    "        pu_image = [[(noise_floor - mu)/sigma] * max_y for _ in range(max_x)]\n",
    "        for pu_n in range(num_pus):\n",
    "            x, y, p = max(0, min(max_x-1, int(data_reg[image_num][pu_n*3]))), max(0, min(max_x-1, int(data_reg[image_num][pu_n*3+1]))), data_reg[image_num][pu_n*3+2]\n",
    "            pu_image[x][y] = (p - mu)/sigma\n",
    "        su_image = [[noise_floor] * max_y for _ in range(max_x)]\n",
    "        su_x, su_y = max(0, min(max_x-1, int(data_reg[image_num][-3]))), max(0, min(max_x-1, int(data_reg[image_num][-2])))\n",
    "        su_image[su_x][su_y] = su_power\n",
    "        x_train.append(np.array([pu_image, su_image], dtype='float32'))\n",
    "        y_train.append(data_reg[image_num][-1])\n",
    "    x_train = np.concatenate([image[np.newaxis] for image in x_train])\n",
    "    y_train = np.asarray(y_train, dtype='float32')\n",
    "    "
   ]
  },
  {
   "cell_type": "code",
   "execution_count": 14,
   "metadata": {},
   "outputs": [],
   "source": [
    "# TODO, CNN Model here\n",
    "num_filters = 1\n",
    "data_format = 'channels_first'\n",
    "cnn = models.Sequential()\n",
    "cnn.add(layers.Conv2D(num_filters, (7, 7), activation='relu', input_shape=(2, 4000, 4000), data_format=data_format))\n",
    "cnn.add(layers.MaxPooling2D(pool_size=(2,2), data_format=data_format))\n",
    "cnn.add(layers.Conv2D(num_filters, (7, 7), activation='relu', data_format=data_format))\n",
    "cnn.add(layers.MaxPool2D((2,2), data_format=data_format))\n",
    "cnn.add(layers.Conv2D(num_filters, (7, 7), activation='relu', data_format=data_format))\n",
    "cnn.add(layers.MaxPool2D((2,2), data_format=data_format))\n",
    "cnn.add(layers.Conv2D(num_filters, (7, 7), activation='relu', data_format=data_format))\n",
    "cnn.add(layers.MaxPool2D((2,2), data_format=data_format))\n",
    "cnn.add(layers.Flatten())\n",
    "# cnn.add(layers.Dense(10, activation='sigmoid'))\n",
    "cnn.add(layers.Dense(1, activation='linear'))"
   ]
  },
  {
   "cell_type": "code",
   "execution_count": 15,
   "metadata": {},
   "outputs": [
    {
     "name": "stdout",
     "output_type": "stream",
     "text": [
      "_________________________________________________________________\n",
      "Layer (type)                 Output Shape              Param #   \n",
      "=================================================================\n",
      "conv2d_12 (Conv2D)           (None, 1, 3994, 3994)     99        \n",
      "_________________________________________________________________\n",
      "max_pooling2d_12 (MaxPooling (None, 1, 1997, 1997)     0         \n",
      "_________________________________________________________________\n",
      "conv2d_13 (Conv2D)           (None, 1, 1991, 1991)     50        \n",
      "_________________________________________________________________\n",
      "max_pooling2d_13 (MaxPooling (None, 1, 995, 995)       0         \n",
      "_________________________________________________________________\n",
      "conv2d_14 (Conv2D)           (None, 1, 989, 989)       50        \n",
      "_________________________________________________________________\n",
      "max_pooling2d_14 (MaxPooling (None, 1, 494, 494)       0         \n",
      "_________________________________________________________________\n",
      "conv2d_15 (Conv2D)           (None, 1, 488, 488)       50        \n",
      "_________________________________________________________________\n",
      "max_pooling2d_15 (MaxPooling (None, 1, 244, 244)       0         \n",
      "_________________________________________________________________\n",
      "flatten_4 (Flatten)          (None, 59536)             0         \n",
      "_________________________________________________________________\n",
      "dense_4 (Dense)              (None, 1)                 59537     \n",
      "=================================================================\n",
      "Total params: 59,786\n",
      "Trainable params: 59,786\n",
      "Non-trainable params: 0\n",
      "_________________________________________________________________\n"
     ]
    }
   ],
   "source": [
    "cnn.summary()"
   ]
  },
  {
   "cell_type": "code",
   "execution_count": null,
   "metadata": {},
   "outputs": [
    {
     "name": "stdout",
     "output_type": "stream",
     "text": [
      "Epoch 1/5\n"
     ]
    }
   ],
   "source": [
    "cnn.compile(loss='mean_squared_error', optimizer='adam', metrics=['mse','mae'])\n",
    "cnn.fit(x_train, y_train, epochs=5, verbose=1)"
   ]
  },
  {
   "cell_type": "code",
   "execution_count": 177,
   "metadata": {},
   "outputs": [],
   "source": [
    "y_train = np.reshape(y_train, (-1,1))"
   ]
  },
  {
   "cell_type": "code",
   "execution_count": 179,
   "metadata": {},
   "outputs": [
    {
     "data": {
      "text/plain": [
       "(14, 1)"
      ]
     },
     "execution_count": 179,
     "metadata": {},
     "output_type": "execute_result"
    }
   ],
   "source": [
    "y_train.shape"
   ]
  },
  {
   "cell_type": "code",
   "execution_count": null,
   "metadata": {},
   "outputs": [],
   "source": []
  }
 ],
 "metadata": {
  "kernelspec": {
   "display_name": "Python 3",
   "language": "python",
   "name": "python3"
  },
  "language_info": {
   "codemirror_mode": {
    "name": "ipython",
    "version": 3
   },
   "file_extension": ".py",
   "mimetype": "text/x-python",
   "name": "python",
   "nbconvert_exporter": "python",
   "pygments_lexer": "ipython3",
   "version": "3.6.6"
  }
 },
 "nbformat": 4,
 "nbformat_minor": 2
}
